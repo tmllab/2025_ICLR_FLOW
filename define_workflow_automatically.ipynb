{
 "cells": [
  {
   "cell_type": "markdown",
   "metadata": {},
   "source": [
    "## How to automatically run workflow?"
   ]
  },
  {
   "cell_type": "markdown",
   "metadata": {},
   "source": [
    "### Requirement\n",
    "You need to have an OpenAI API Key"
   ]
  },
  {
   "cell_type": "code",
   "execution_count": null,
   "metadata": {},
   "outputs": [],
   "source": [
    "import os\n",
    "\n",
    "os.environ[\"OPENAI_API_KEY\"] = \"Your API Key\"\n"
   ]
  },
  {
   "cell_type": "markdown",
   "metadata": {},
   "source": [
    "### Set your overall task"
   ]
  },
  {
   "cell_type": "code",
   "execution_count": null,
   "metadata": {},
   "outputs": [],
   "source": [
    "overall_task: str = \"Your own task\""
   ]
  },
  {
   "cell_type": "markdown",
   "metadata": {},
   "source": [
    "### Set workflow paramaters"
   ]
  },
  {
   "cell_type": "code",
   "execution_count": null,
   "metadata": {},
   "outputs": [],
   "source": [
    "refine_threshold: int = 2\n",
    "candidate_graphs: int = 3"
   ]
  },
  {
   "cell_type": "markdown",
   "metadata": {},
   "source": [
    "### Run your workflow"
   ]
  },
  {
   "cell_type": "code",
   "execution_count": null,
   "metadata": {},
   "outputs": [],
   "source": [
    "import asyncio\n",
    "import nest_asyncio\n",
    "import json\n",
    "import time\n",
    "from flow import Flow\n",
    "import logging\n",
    "from summary import Summary\n",
    "# -----------------------------------------------------------------------------\n",
    "# Configuration and Logging Setup\n",
    "# -----------------------------------------------------------------------------\n",
    "logging.basicConfig(\n",
    "    level=logging.INFO,\n",
    "    format=\"%(asctime)s [%(levelname)s] %(message)s\",\n",
    "    datefmt=\"%Y-%m-%d %H:%M:%S\"\n",
    ")\n",
    "logger = logging.getLogger(__name__)\n",
    "\n",
    "#Entry point for running the workflow. Creates an initial workflow and orchestrates the manager.\n",
    "\n",
    "start_time = time.time()\n",
    "\n",
    "manager = Flow(overall_task = overall_task, enable_refine=True, refine_threhold = refine_threshold, n_candidate_graphs=candidate_graphs, customize=False, customize_workflow=None)\n",
    "nest_asyncio.apply()\n",
    "asyncio.run(manager.run_async())\n",
    "\n",
    "elapsed_time = time.time() - start_time\n",
    "logger.info(f\"Elapsed time: {elapsed_time:.2f} seconds\")\n",
    "\n",
    "workflow_data = {\n",
    "    tid: task.__dict__ for tid, task in manager.workflow.tasks.items()\n",
    "}\n",
    "with open('automatically_result.json', 'w', encoding='utf-8') as file:\n",
    "    json.dump(workflow_data, file, indent=4)\n",
    "\n",
    "summary = Summary()\n",
    "\n",
    "# Generate and save a summary of the workflow results\n",
    "chat_result = summary.summary(overall_task, workflow_data)\n",
    "print(chat_result)"
   ]
  }
 ],
 "metadata": {
  "kernelspec": {
   "display_name": "base",
   "language": "python",
   "name": "python3"
  },
  "language_info": {
   "codemirror_mode": {
    "name": "ipython",
    "version": 3
   },
   "file_extension": ".py",
   "mimetype": "text/x-python",
   "name": "python",
   "nbconvert_exporter": "python",
   "pygments_lexer": "ipython3",
   "version": "3.12.7"
  }
 },
 "nbformat": 4,
 "nbformat_minor": 2
}
