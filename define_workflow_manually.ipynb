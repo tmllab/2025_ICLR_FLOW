{
 "cells": [
  {
   "cell_type": "markdown",
   "metadata": {},
   "source": [
    "## How to run your customized workflow?"
   ]
  },
  {
   "cell_type": "markdown",
   "metadata": {},
   "source": [
    "### Requirement\n",
    "You need to have an OpenAI API Key."
   ]
  },
  {
   "cell_type": "code",
   "execution_count": 1,
   "metadata": {},
   "outputs": [],
   "source": [
    "import os\n",
    "\n",
    "os.environ[\"OPENAI_API_KEY\"] = \"Your API Key\""
   ]
  },
  {
   "cell_type": "markdown",
   "metadata": {},
   "source": [
    "### Set overall task & Customize your own workflow\n",
    "Firstly, you need to define your overall task. After that, you can freely define your own workflow.  \n",
    "Following attributes need to be provided for each subtask:\n",
    "- **`id`**: The identifier for this subtask.  \n",
    "  Format: `\"taskx\"`, where `x` is an Arabic numeral (e.g., `task1`, `task2`).\n",
    "\n",
    "- **`objective`**: The specific content or goal of this subtask.\n",
    "\n",
    "- **`agent_id`**: The identifier for the agent responsible for executing this subtask.\n",
    "\n",
    "- **`next`**: A list of tasks that depend on the completion of this subtask.  \n",
    "  Values in this list must be `id`s of previously defined tasks.\n",
    "\n",
    "- **`prev`**: A list of tasks that this subtask depends on.  \n",
    "  Values in this list must be `id`s of previously defined tasks.\n",
    "\n",
    "- **`agent`**: The name of the agent responsible for completing this subtask.  \n",
    "  The same `agent_id` must always correspond to the same `agent`.\n",
    "\n",
    "Note That：\n",
    "- Your workflow **must not** contain any form of circular dependencies.\n",
    "- Ensure that all `next` and `prev` values reference valid `id`s of previously defined tasks.\n",
    "- The `agent_id` and `agent` must remain consistent across all tasks."
   ]
  },
  {
   "cell_type": "code",
   "execution_count": null,
   "metadata": {},
   "outputs": [],
   "source": [
    "from workflow import Task, Workflow\n",
    "\n",
    "# Customize your overall task here.\n",
    "overall_task: str = \"Your own task\"\n",
    "\n",
    "# Use a list of dictionaries to initialize task data here.\n",
    "tasks_data = [\n",
    "    {\n",
    "        \"id\": \"task0\",\n",
    "        \"objective\": \"objective0\",\n",
    "        \"agent_id\": 0,\n",
    "        \"next\": [\"task1\"],\n",
    "        \"prev\": [],\n",
    "        \"agent\": \"agent0\",\n",
    "    },\n",
    "    {\n",
    "        \"id\": \"task1\",\n",
    "        \"objective\": \"objective1\",\n",
    "        \"agent_id\": 1,\n",
    "        \"next\": [],\n",
    "        \"prev\": [\"task0\"],\n",
    "        \"agent\": \"agent1\",\n",
    "    },\n",
    "]\n",
    "\n",
    "# Calculate dependencies and create a dictionary of tasks\n",
    "tasks_dic = {task_data[\"id\"]: Task(**task_data) for task_data in tasks_data}\n",
    "\n",
    "# Create the workflow\n",
    "customized_workflow = Workflow(tasks_dic)"
   ]
  },
  {
   "cell_type": "markdown",
   "metadata": {},
   "source": [
    "### Run your workflow"
   ]
  },
  {
   "cell_type": "code",
   "execution_count": null,
   "metadata": {},
   "outputs": [],
   "source": [
    "import asyncio\n",
    "import nest_asyncio\n",
    "import json\n",
    "import time\n",
    "from flow import Flow\n",
    "import logging\n",
    "from summary import Summary\n",
    "# -----------------------------------------------------------------------------\n",
    "# Configuration and Logging Setup\n",
    "# -----------------------------------------------------------------------------\n",
    "logging.basicConfig(\n",
    "    level=logging.INFO,\n",
    "    format=\"%(asctime)s [%(levelname)s] %(message)s\",\n",
    "    datefmt=\"%Y-%m-%d %H:%M:%S\"\n",
    ")\n",
    "logger = logging.getLogger(__name__)\n",
    "\n",
    "# Entry point for running the workflow. Creates an initial workflow and orchestrates the manager.\n",
    "\n",
    "start_time = time.time()\n",
    "\n",
    "manager = Flow(overall_task=overall_task, enable_refine=False, refine_threhold=0, n_candidate_graphs=0, customize=True, customize_workflow=customized_workflow)\n",
    "nest_asyncio.apply()\n",
    "asyncio.run(manager.run_async())\n",
    "\n",
    "elapsed_time = time.time() - start_time\n",
    "logger.info(f\"Elapsed time: {elapsed_time:.2f} seconds\")\n",
    "\n",
    "workflow_data = {\n",
    "    tid: task.__dict__ for tid, task in manager.workflow.tasks.items()\n",
    "}\n",
    "with open('manually_result.json', 'w', encoding='utf-8') as file:\n",
    "    json.dump(workflow_data, file, indent=4)\n",
    "\n",
    "summary = Summary()\n",
    "\n",
    "# Generate and save a summary of the workflow results\n",
    "chat_result = summary.summary(overall_task, workflow_data)\n",
    "print(chat_result)"
   ]
  }
 ],
 "metadata": {
  "kernelspec": {
   "display_name": "base",
   "language": "python",
   "name": "python3"
  },
  "language_info": {
   "codemirror_mode": {
    "name": "ipython",
    "version": 3
   },
   "file_extension": ".py",
   "mimetype": "text/x-python",
   "name": "python",
   "nbconvert_exporter": "python",
   "pygments_lexer": "ipython3",
   "version": "3.12.7"
  }
 },
 "nbformat": 4,
 "nbformat_minor": 2
}
